{
 "cells": [
  {
   "cell_type": "code",
   "execution_count": 8,
   "metadata": {},
   "outputs": [
    {
     "name": "stdout",
     "output_type": "stream",
     "text": [
      "Overwriting ../libs/warmUpExercise.m\n"
     ]
    }
   ],
   "source": [
    "%%file ../libs/warmUpExercise.m\n",
    "function A = warmUpExercise()\n",
    "    A = [];\n",
    "    A = eye(5);\n",
    "end"
   ]
  },
  {
   "cell_type": "code",
   "execution_count": 7,
   "metadata": {},
   "outputs": [
    {
     "name": "stdout",
     "output_type": "stream",
     "text": [
      "Overwriting ../libs/plotData.m\n"
     ]
    }
   ],
   "source": [
    "%%file ../libs/plotData.m\n",
    "function plotData (x, y)\n",
    "    plot(x, y, 'rx', 'MarkerSize', 10);\n",
    "end"
   ]
  },
  {
   "cell_type": "code",
   "execution_count": 6,
   "metadata": {},
   "outputs": [
    {
     "name": "stdout",
     "output_type": "stream",
     "text": [
      "Overwriting ../libs/computeCost.m\n"
     ]
    }
   ],
   "source": [
    "%%file ../libs/computeCost.m\n",
    "function J = computeCost(X, y, theta)\n",
    "    m = length(y);\n",
    "    J = 0;\n",
    "    predictions = X * theta;\n",
    "    sqrtError = (predictions - y) .^2;\n",
    "    J = 1/(2*m) * sum(sqrtError);\n",
    "end"
   ]
  },
  {
   "cell_type": "code",
   "execution_count": 5,
   "metadata": {},
   "outputs": [
    {
     "name": "stdout",
     "output_type": "stream",
     "text": [
      "Overwriting ../libs/gradientDescent.m\n"
     ]
    }
   ],
   "source": [
    "%%file ../libs/gradientDescent.m\n",
    "function [theta, J_history] = gradientDescent(X, y, theta, alpha, num_iters)\n",
    "    m = length(y);\n",
    "    J_history = zeros(num_iters, 1);\n",
    "    for it = 1:num_iters\n",
    "       theta = theta - alpha / m * (X' * (X * theta - y));\n",
    "       J_history(it) = computeCost(X, y, theta);\n",
    "    end\n",
    "end"
   ]
  },
  {
   "cell_type": "code",
   "execution_count": 4,
   "metadata": {},
   "outputs": [
    {
     "name": "stdout",
     "output_type": "stream",
     "text": [
      "Overwriting ../libs/featureNormalize.m\n"
     ]
    }
   ],
   "source": [
    "%%file ../libs/featureNormalize.m\n",
    "function [X_norm, mu, sigma] = featureNormalize(X)\n",
    "    mu = mean(X);\n",
    "    sigma = std(X);\n",
    "    t = ones(length(X), 1);\n",
    "    X_norm = (X - t * mu) ./ (t * sigma);\n",
    "end"
   ]
  },
  {
   "cell_type": "code",
   "execution_count": 3,
   "metadata": {},
   "outputs": [
    {
     "name": "stdout",
     "output_type": "stream",
     "text": [
      "Overwriting ../libs/computeCostMulti.m\n"
     ]
    }
   ],
   "source": [
    "%%file ../libs/computeCostMulti.m\n",
    "function J = computeCostMulti(X, y, theta)\n",
    "    m = length(y);\n",
    "    Delta = (X * theta - y);\n",
    "    sqrtError = Delta' * Delta;\n",
    "    J = 1/(2*m) * sqrtError;\n",
    "end"
   ]
  },
  {
   "cell_type": "code",
   "execution_count": 2,
   "metadata": {},
   "outputs": [
    {
     "name": "stdout",
     "output_type": "stream",
     "text": [
      "Overwriting ../libs/gradientDescentMulti.m\n"
     ]
    }
   ],
   "source": [
    "%%file ../libs/gradientDescentMulti.m\n",
    "function [theta, J_history] = gradientDescentMulti(X, y, theta, alpha, num_iters)\n",
    "    m = length(y);\n",
    "    J_history = zeros(num_iters, 1);\n",
    "\n",
    "    for it = 1:num_iters\n",
    "        Delta = ((X * theta - y)' * X)';\n",
    "        theta = theta - (alpha / m * Delta);\n",
    "        J_history(it) = computeCostMulti(X, y, theta);\n",
    "    end\n",
    "end"
   ]
  },
  {
   "cell_type": "code",
   "execution_count": 1,
   "metadata": {},
   "outputs": [
    {
     "name": "stdout",
     "output_type": "stream",
     "text": [
      "Overwriting ../libs/normalEqn.m\n"
     ]
    }
   ],
   "source": [
    "%%file ../libs/normalEqn.m\n",
    "function [theta] = normalEqn(X, y)\n",
    "    theta = pinv(X'*X)*X'*y;\n",
    "end"
   ]
  }
 ],
 "metadata": {
  "kernelspec": {
   "display_name": "Octave",
   "language": "octave",
   "name": "octave"
  },
  "language_info": {
   "codemirror_mode": {
    "name": "ipython",
    "version": 3
   },
   "file_extension": ".py",
   "mimetype": "text/x-python",
   "name": "octave",
   "nbconvert_exporter": "python",
   "pygments_lexer": "ipython3",
   "version": "3.10.4"
  },
  "orig_nbformat": 4
 },
 "nbformat": 4,
 "nbformat_minor": 2
}
