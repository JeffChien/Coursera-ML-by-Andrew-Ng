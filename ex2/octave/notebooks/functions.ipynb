{
 "cells": [
  {
   "cell_type": "code",
   "execution_count": 9,
   "metadata": {},
   "outputs": [
    {
     "name": "stdout",
     "output_type": "stream",
     "text": [
      "Created file '/Users/jchien/workspace/courses/coursera_ml/ex2/octave/libs/plotData.m'.\n"
     ]
    }
   ],
   "source": [
    "%%file ../libs/plotData.m\n",
    "\n",
    "function plotData (X, y)\n",
    "    figure;\n",
    "    hold on;\n",
    "\n",
    "    pos = find(y==1);\n",
    "    neg = find(y==0);\n",
    "\n",
    "    plot(X(pos, 1), X(pos, 2), 'k+', 'LineWidth', 2, 'MarkerSize', 7);\n",
    "    plot(X(neg, 1), X(neg, 2), 'ko', 'MarkerFaceColor', 'y', 'MarkerSize', 7);\n",
    "    hold off;\n",
    "end"
   ]
  },
  {
   "cell_type": "markdown",
   "metadata": {},
   "source": [
    "# Sigmoid function\n",
    "$$\n",
    "h_\\theta(x) = g(\\theta^Tx)\n",
    "$$\n",
    "$$\n",
    "g(z) = \\frac{1}{1 + e^{-z}}\n",
    "$$"
   ]
  },
  {
   "cell_type": "code",
   "execution_count": 4,
   "metadata": {},
   "outputs": [
    {
     "name": "stdout",
     "output_type": "stream",
     "text": [
      "Created file '/Users/jchien/workspace/courses/coursera_ml/ex2/octave/libs/sigmoid.m'.\n"
     ]
    }
   ],
   "source": [
    "%%file ../libs/sigmoid.m\n",
    "\n",
    "function g = sigmoid(z)\n",
    "    g = 1 ./ (1 + e.^-z);    \n",
    "end"
   ]
  },
  {
   "cell_type": "markdown",
   "metadata": {},
   "source": [
    "# Cost function and Gradiant\n",
    "$$\n",
    "J(\\theta) = -\\frac{1}{m}[\\sum^m_{i=1} y^{(i)}\\log(h_\\theta(x^{(i)})) + (1-y^{(i)})\\log(1-h_\\theta(x^{(i)}))]\n",
    "$$\n",
    "\n",
    "$$\n",
    "\\frac{\\partial}{\\partial\\theta_j}J(\\theta) = \\frac{1}{m}\\sum^m_{i=1}(h_\\theta(x^{(i)}) - y^{(i)})x_j^{(i)}\n",
    "$$"
   ]
  },
  {
   "cell_type": "code",
   "execution_count": 6,
   "metadata": {},
   "outputs": [
    {
     "name": "stdout",
     "output_type": "stream",
     "text": [
      "Created file '/Users/jchien/workspace/courses/coursera_ml/ex2/octave/libs/costFunction.m'.\n"
     ]
    }
   ],
   "source": [
    "%%file ../libs/costFunction.m\n",
    "function [J, grad] = costFunction(theta, X, y)\n",
    "    m = length(y);\n",
    "    J = 0;\n",
    "    grad = zeros(size(theta));\n",
    "    g = sigmoid(X * theta);\n",
    "    J = (y' * log(g) + (1-y)'*log(1-g)) * -1 / m;\n",
    "    grad = ((g - y)' * X)' / m;\n",
    "end"
   ]
  },
  {
   "cell_type": "code",
   "execution_count": 11,
   "metadata": {},
   "outputs": [
    {
     "name": "stdout",
     "output_type": "stream",
     "text": [
      "Created file '/Users/jchien/workspace/courses/coursera_ml/ex2/octave/libs/costFunctionReg.m'.\n"
     ]
    }
   ],
   "source": [
    "%%file ../libs/costFunctionReg.m\n",
    "\n",
    "function [J, grad] = costFunctionReg(theta, X, y, lambda)\n",
    "    m = length(y);\n",
    "    J = 0;\n",
    "    grad = zeros(size(theta));\n",
    "\n",
    "    [J, grad] = costFunction(theta, X, y);\n",
    "    v = [0; theta(2:end)];\n",
    "    J = J + lambda/(2*m) * v'*v;\n",
    "    grad = grad + lambda/m * v;\n",
    "end"
   ]
  },
  {
   "cell_type": "markdown",
   "metadata": {},
   "source": [
    "# Decision boundary, line\n",
    "\n",
    "recall the hypothesis of logistic regression\n",
    "$$\n",
    "h(z) = \\frac{1}{1+e^{-z}}\n",
    "$$\n",
    "and\n",
    "$$\n",
    "z = \\theta^Tx\n",
    "$$\n",
    "\n",
    "as definition, we separate the 2 classes when $h(z) = \\frac{1}{2}$, which is also when $z=0$\n",
    "\n",
    "now, we have 2 features $z = \\theta_0 + \\theta_1x_1 + \\theta_2x_2$\n",
    "\n",
    "$\\theta_0 + \\theta_1x_1 + \\theta_2x_2 = 0$\n",
    "\n",
    "$x_2' = -\\frac{\\theta_1x_1 + \\theta_0}{\\theta_2}$\n",
    "\n",
    "$x_1' = [\\min(x_1)-2, \\max(x_1)+2]$"
   ]
  },
  {
   "cell_type": "code",
   "execution_count": 7,
   "metadata": {},
   "outputs": [
    {
     "name": "stdout",
     "output_type": "stream",
     "text": [
      "Created file '/Users/jchien/workspace/courses/coursera_ml/ex2/octave/libs/plotDecisionBoundary.m'.\n"
     ]
    }
   ],
   "source": [
    "%%file ../libs/plotDecisionBoundary.m\n",
    "\n",
    "function plotDecisionBoundary(theta, X, y)\n",
    "    plotData(X(:, 2:3), y);\n",
    "    hold on;\n",
    "    plot_x = [min(X(:, 2))-2, max(X(:, 2)) + 2];\n",
    "    plot_y = (theta(2) .* plot_x + theta(1)) .* (-1 / theta(3));\n",
    "    plot(plot_x, plot_y);\n",
    "    hold off;\n",
    "end"
   ]
  },
  {
   "cell_type": "code",
   "execution_count": 12,
   "metadata": {},
   "outputs": [
    {
     "name": "stdout",
     "output_type": "stream",
     "text": [
      "Created file '/Users/jchien/workspace/courses/coursera_ml/ex2/octave/libs/plotDecisionBoundary2.m'.\n"
     ]
    }
   ],
   "source": [
    "%%file ../libs/plotDecisionBoundary2.m\n",
    "\n",
    "function plotDecisionBoundary2(theta, X, y)\n",
    "    plotData(X(:, 2:3), y);\n",
    "    hold on;\n",
    "    u = linspace(-1, 1.5, 50);\n",
    "    v = linspace(-1, 1.5, 50);\n",
    "    z = zeros(length(u), length(v));\n",
    "\n",
    "    for i=1:length(u)\n",
    "        for j=1:length(v)\n",
    "            z(i, j) = mapFeature(u(i), v(j)) * theta;\n",
    "        end\n",
    "    end\n",
    "    z = z';\n",
    "    contour(u, v, z, [0, 0], 'LineWidth', 2);\n",
    "    hold off;\n",
    "end"
   ]
  },
  {
   "cell_type": "code",
   "execution_count": 8,
   "metadata": {},
   "outputs": [
    {
     "name": "stdout",
     "output_type": "stream",
     "text": [
      "Created file '/Users/jchien/workspace/courses/coursera_ml/ex2/octave/libs/predict.m'.\n"
     ]
    }
   ],
   "source": [
    "%%file ../libs/predict.m\n",
    "\n",
    "function p = predict(theta, X)\n",
    "    m = size(X, 1);\n",
    "    p = zeros(m, 1);\n",
    "\n",
    "    p = sigmoid(X * theta);\n",
    "    for row = 1:m\n",
    "        if p(row) >= 0.5\n",
    "            p(row) = 1;\n",
    "        else\n",
    "            p(row) = 0;\n",
    "        end\n",
    "    end\n",
    "end"
   ]
  },
  {
   "cell_type": "code",
   "execution_count": 10,
   "metadata": {},
   "outputs": [
    {
     "name": "stdout",
     "output_type": "stream",
     "text": [
      "Created file '/Users/jchien/workspace/courses/coursera_ml/ex2/octave/libs/mapFeature.m'.\n"
     ]
    }
   ],
   "source": [
    "%%file ../libs/mapFeature.m\n",
    "\n",
    "function out = mapFeature(X1, X2)\n",
    "    degree = 6;\n",
    "    out = ones(size(X1(:, 1)));\n",
    "    for i = 1:degree\n",
    "        for j=0:i\n",
    "            out(:, end+1) = (X1 .^(i-j)).*(X2.^j);\n",
    "        end\n",
    "    end\n",
    "end"
   ]
  }
 ],
 "metadata": {
  "kernelspec": {
   "display_name": "Octave",
   "language": "octave",
   "name": "octave"
  },
  "language_info": {
   "file_extension": ".m",
   "help_links": [
    {
     "text": "GNU Octave",
     "url": "https://www.gnu.org/software/octave/support.html"
    },
    {
     "text": "Octave Kernel",
     "url": "https://github.com/Calysto/octave_kernel"
    },
    {
     "text": "MetaKernel Magics",
     "url": "https://metakernel.readthedocs.io/en/latest/source/README.html"
    }
   ],
   "mimetype": "text/x-octave",
   "name": "octave",
   "version": "\u001b[?2004h"
  },
  "orig_nbformat": 4
 },
 "nbformat": 4,
 "nbformat_minor": 2
}
