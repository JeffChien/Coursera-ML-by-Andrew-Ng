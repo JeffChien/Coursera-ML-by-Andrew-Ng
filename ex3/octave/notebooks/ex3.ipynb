{
 "cells": [
  {
   "cell_type": "code",
   "execution_count": 23,
   "metadata": {},
   "outputs": [],
   "source": [
    "graphics_toolkit('qt')"
   ]
  },
  {
   "cell_type": "code",
   "execution_count": 24,
   "metadata": {},
   "outputs": [],
   "source": [
    "addpath('../libs/');"
   ]
  },
  {
   "cell_type": "markdown",
   "metadata": {},
   "source": [
    "# 1. Multi-class Classification"
   ]
  },
  {
   "cell_type": "code",
   "execution_count": 25,
   "metadata": {},
   "outputs": [],
   "source": [
    "input_layer_size = 400;\n",
    "num_labels = 10;\n"
   ]
  },
  {
   "cell_type": "markdown",
   "metadata": {},
   "source": [
    "## 1.1 Loading data\n",
    "\n",
    "**ex3data1.mat** contains 2 variables\n",
    "- matrix X, contains 5000 examples, each rows is a unrolled 20x20 grayscale image of the digit.\n",
    "- vector y, contains 5000 labels, but since octave starts from index 1, to make things more compatible with octave, the '0' digit is labeled as 10, while the digits '1' to '9' are labeled as '1' to '9' in their natural order."
   ]
  },
  {
   "cell_type": "code",
   "execution_count": 26,
   "metadata": {},
   "outputs": [],
   "source": [
    "load('../../data/ex3data1.mat');\n",
    "m = size(X, 1);"
   ]
  },
  {
   "cell_type": "markdown",
   "metadata": {},
   "source": [
    "## 1.2 Visualizing data"
   ]
  },
  {
   "cell_type": "code",
   "execution_count": 27,
   "metadata": {},
   "outputs": [],
   "source": [
    "% Randomly select 100 data points to display\n",
    "rand_indices = randperm(m);\n",
    "sel = X(rand_indices(1:100), :);"
   ]
  },
  {
   "cell_type": "code",
   "execution_count": 28,
   "metadata": {},
   "outputs": [
    {
     "data": {
      "image/png": "[encoded data removed]",
      "text/plain": [
       "<IPython.core.display.Image object>"
      ]
     },
     "metadata": {},
     "output_type": "display_data"
    }
   ],
   "source": [
    "displayData(sel);"
   ]
  },
  {
   "cell_type": "markdown",
   "metadata": {},
   "source": [
    "## 1.4 One-vs-all prediction"
   ]
  },
  {
   "cell_type": "code",
   "execution_count": 29,
   "metadata": {},
   "outputs": [
    {
     "name": "stdout",
     "output_type": "stream",
     "text": [
      "Iteration    50 | Cost: 1.003872e-02\r"
     ]
    }
   ],
   "source": [
    "lambda = 0.1;\n",
    "[all_theta] = oneVsAll(X, y, num_labels, lambda);"
   ]
  },
  {
   "cell_type": "code",
   "execution_count": 30,
   "metadata": {},
   "outputs": [
    {
     "name": "stdout",
     "output_type": "stream",
     "text": [
      "Training Set Accuracy: 95.040000\n"
     ]
    }
   ],
   "source": [
    "pred = predictOneVsAll(all_theta, X);\n",
    "fprintf('Training Set Accuracy: %f\\n', mean(double(pred==y)*100));"
   ]
  },
  {
   "cell_type": "code",
   "execution_count": 31,
   "metadata": {},
   "outputs": [
    {
     "name": "stdout",
     "output_type": "stream",
     "text": [
      "Displaying Example Image\n",
      "One-vs-All Prediction: 5 (digit 5)\n"
     ]
    },
    {
     "data": {
      "image/png": "[encoded data removed]",
      "text/plain": [
       "<IPython.core.display.Image object>"
      ]
     },
     "metadata": {},
     "output_type": "display_data"
    }
   ],
   "source": [
    "rp = randperm(m);\n",
    "for i = 1:1\n",
    "    fprintf('Displaying Example Image\\n');\n",
    "    displayData(X(rp(i), :));\n",
    "\n",
    "    pred = predictOneVsAll(all_theta, X(rp(i), :));\n",
    "    fprintf('One-vs-All Prediction: %d (digit %d)\\n', pred, mod(pred, 10));\n",
    "end"
   ]
  },
  {
   "cell_type": "markdown",
   "metadata": {},
   "source": [
    "# 2. Neural Networks\n",
    "**ex3weights** contains trained parameters $\\Theta_1, \\Theta_2$\n",
    "\n",
    "```octave\n",
    "size(Theta1) == [25 401]\n",
    "size(Theta2) == [10 26]\n",
    "```\n",
    "\n",
    "$L=2$\n",
    "\n",
    "$s_0=400, s_1=25, s_2 = s_L=10$\n",
    "\n",
    "we apply forward propagation algorithm with these 2 $\\Theta_1, \\Theta_2$ for prediction"
   ]
  },
  {
   "cell_type": "code",
   "execution_count": 32,
   "metadata": {},
   "outputs": [],
   "source": [
    "input_layer_size = 400;\n",
    "hidder_layer_size = 25;\n",
    "num_labels = 10;"
   ]
  },
  {
   "cell_type": "code",
   "execution_count": 33,
   "metadata": {},
   "outputs": [
    {
     "name": "stdout",
     "output_type": "stream",
     "text": [
      "Variables visible from the current scope:\n",
      "\n",
      "variables in scope: top scope\n",
      "\n",
      "  Attr   Name                   Size                     Bytes  Class\n",
      "  ====   ====                   ====                     =====  ===== \n",
      "         Theta1                25x401                    80200  double\n",
      "         Theta2                10x26                      2080  double\n",
      "         X                   5000x400                 16000000  double\n",
      "         all_theta             10x401                    32080  double\n",
      "         ans                    1x1                          8  double\n",
      "         hidder_layer_size      1x1                          8  double\n",
      "         i                      1x1                          8  double\n",
      "         input_layer_size       1x1                          8  double\n",
      "         lambda                 1x1                          8  double\n",
      "         m                      1x1                          8  double\n",
      "         num_labels             1x1                          8  double\n",
      "         p2                  5000x1                      40000  double\n",
      "         pred                   1x1                          8  double\n",
      "         pred2               5000x1                      40000  double\n",
      "         rand_indices           1x5000                   40000  double\n",
      "         rp                     1x5000                   40000  double\n",
      "         sel                  100x400                   320000  double\n",
      "         y                   5000x1                      40000  double\n",
      "\n",
      "Total is 2079303 elements using 16634424 bytes\n",
      "\n"
     ]
    }
   ],
   "source": [
    "load('../../data/ex3weights.mat');\n",
    "whos;"
   ]
  },
  {
   "cell_type": "code",
   "execution_count": 34,
   "metadata": {},
   "outputs": [
    {
     "name": "stdout",
     "output_type": "stream",
     "text": [
      "Training Set Accuracy: 97.520000\n",
      "Training Set Accuracy by vectorized calculation: 97.520000\n"
     ]
    }
   ],
   "source": [
    "pred = predict(Theta1, Theta2, X);\n",
    "pred2 = vectorizedPredict(X, {Theta1', Theta2'}, @sigmoid);\n",
    "fprintf('Training Set Accuracy: %f\\n', mean(double(pred==y)*100));\n",
    "fprintf('Training Set Accuracy by vectorized calculation: %f\\n', mean(double(p2==y)*100));"
   ]
  },
  {
   "cell_type": "code",
   "execution_count": 50,
   "metadata": {},
   "outputs": [
    {
     "name": "stdout",
     "output_type": "stream",
     "text": [
      "Displaying Example Image\n",
      "Neural Networks Prediction: 7 (digit 7)\n"
     ]
    },
    {
     "data": {
      "image/png": "[encoded data removed]",
      "text/plain": [
       "<IPython.core.display.Image object>"
      ]
     },
     "metadata": {},
     "output_type": "display_data"
    }
   ],
   "source": [
    "rp = randperm(m);\n",
    "for i = 1:1\n",
    "    fprintf('Displaying Example Image\\n');\n",
    "    displayData(X(rp(i), :));\n",
    "\n",
    "    pred = vectorizedPredict(X(rp(i), :), {Theta1', Theta2'}, @sigmoid);\n",
    "    fprintf('Neural Networks Prediction: %d (digit %d)\\n', pred, mod(pred, 10));\n",
    "end"
   ]
  }
 ],
 "metadata": {
  "kernelspec": {
   "display_name": "Octave",
   "language": "octave",
   "name": "octave"
  },
  "language_info": {
   "file_extension": ".m",
   "help_links": [
    {
     "text": "GNU Octave",
     "url": "https://www.gnu.org/software/octave/support.html"
    },
    {
     "text": "Octave Kernel",
     "url": "https://github.com/Calysto/octave_kernel"
    },
    {
     "text": "MetaKernel Magics",
     "url": "https://metakernel.readthedocs.io/en/latest/source/README.html"
    }
   ],
   "mimetype": "text/x-octave",
   "name": "octave",
   "version": "7.1.0"
  },
  "orig_nbformat": 4,
  "vscode": {
   "interpreter": {
    "hash": "78085f80e15a7736ac1017358e79479ec892a173a5f11cd4b2f9ba4c9c3f203b"
   }
  }
 },
 "nbformat": 4,
 "nbformat_minor": 2
}
