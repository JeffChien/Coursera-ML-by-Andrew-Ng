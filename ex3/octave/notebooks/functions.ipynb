{
 "cells": [
  {
   "cell_type": "code",
   "execution_count": 9,
   "metadata": {
    "vscode": {
     "languageId": "octave"
    }
   },
   "outputs": [
    {
     "name": "stdout",
     "output_type": "stream",
     "text": [
      "Created file '/Users/jchien/workspace/courses/coursera_ml/ex3/octave/libs/displayData.m'.\n"
     ]
    }
   ],
   "source": [
    "%%file ../libs/displayData.m\n",
    "function [h, display_array] = displayData(X, example_width)\n",
    "    if ~exist('example_width', 'var') || isempty(example_width)\n",
    "        example_width = round(sqrt(size(X, 2)));\n",
    "    end\n",
    "\n",
    "    colormap(gray)\n",
    "    [m, n] = size(X);\n",
    "\n",
    "    example_height = (n / example_width);\n",
    "\n",
    "    display_rows = floor(sqrt(m));\n",
    "    display_cols = ceil(m/display_rows);\n",
    "\n",
    "    % between images padding\n",
    "    pad = 1;\n",
    "\n",
    "    display_array = - ones(pad + display_rows * (example_height + pad), ...\n",
    "                           pad + display_cols * (example_width + pad));\n",
    "\n",
    "    curr_ex = 1;\n",
    "    for j = 1:display_rows\n",
    "        for i = 1:display_cols\n",
    "            if curr_ex > m,\n",
    "                break;\n",
    "            end\n",
    "\n",
    "            max_val = max(abs(X(curr_ex, :)));\n",
    "            display_array(pad + (j-1) * (example_height + pad) + (1:example_height), ...\n",
    "                          pad + (i-1) * (example_width + pad) + (1:example_width)) = ...\n",
    "                            reshape(X(curr_ex, :), example_height, example_width) / max_val;\n",
    "            curr_ex = curr_ex + 1;\n",
    "        end\n",
    "        if curr_ex > m,\n",
    "            break;\n",
    "        end\n",
    "    end\n",
    "\n",
    "    h = imagesc(display_array, [-1 1]);\n",
    "    % do not show axis\n",
    "    axis image off\n",
    "    drawnow;\n",
    "end"
   ]
  },
  {
   "cell_type": "code",
   "execution_count": 15,
   "metadata": {
    "vscode": {
     "languageId": "octave"
    }
   },
   "outputs": [
    {
     "name": "stdout",
     "output_type": "stream",
     "text": [
      "Created file '/Users/jchien/workspace/courses/coursera_ml/ex3/octave/libs/sigmoid.m'.\n"
     ]
    }
   ],
   "source": [
    "%%file ../libs/sigmoid.m\n",
    "function g = sigmoid(z)\n",
    "    % should use element wise div, normal div will change vector dimension.\n",
    "    g = 1.0 ./ (1.0 + exp(-z));\n",
    "end"
   ]
  },
  {
   "cell_type": "code",
   "execution_count": 17,
   "metadata": {
    "vscode": {
     "languageId": "octave"
    }
   },
   "outputs": [
    {
     "name": "stdout",
     "output_type": "stream",
     "text": [
      "Created file '/Users/jchien/workspace/courses/coursera_ml/ex3/octave/libs/lrCostFunction.m'.\n"
     ]
    }
   ],
   "source": [
    "%%file ../libs/lrCostFunction.m\n",
    "function [J, grad] = lrCostFunction(theta, X, y, lambda)\n",
    "    m = length(y);\n",
    "    J = 0;\n",
    "    grad = zeros(size(theta));\n",
    "\n",
    "    g = sigmoid(X * theta);\n",
    "\n",
    "    J_noreg = (-1.0/m) * (y' * log(g) + (1-y)' * log(1-g));\n",
    "\n",
    "    % reg term\n",
    "    v = theta;\n",
    "    v(1) = 0;\n",
    "\n",
    "    reg_fix = (lambda / (2*m)) * (v' * v);\n",
    "\n",
    "    J = J_noreg + reg_fix;\n",
    "\n",
    "    grad = ((g-y)' * X)'/m + (lambda/m) * v;\n",
    "end"
   ]
  },
  {
   "cell_type": "code",
   "execution_count": 27,
   "metadata": {
    "vscode": {
     "languageId": "octave"
    }
   },
   "outputs": [
    {
     "name": "stdout",
     "output_type": "stream",
     "text": [
      "Created file '/Users/jchien/workspace/courses/coursera_ml/ex3/octave/libs/oneVsAll.m'.\n"
     ]
    }
   ],
   "source": [
    "%%file ../libs/oneVsAll.m\n",
    "function [all_theta] = oneVsAll(X, y, num_labels, lambda)\n",
    "    [m, n] = size(X);\n",
    "    all_theta = zeros(num_labels, n+1);\n",
    "    X = [ones(m, 1) X];\n",
    "\n",
    "    initial_theta = zeros(n+1, 1);\n",
    "    options = optimset('GradObj', 'on', 'MaxIter', 50);\n",
    "    for c=1:num_labels\n",
    "        [theta] = fmincg(@(t)(lrCostFunction(t, X, (y==c), lambda)), initial_theta, options);\n",
    "        % [theta] = fminunc(@(t)(lrCostFunction(t, X, (y==c), lambda)), initial_theta, options);\n",
    "        all_theta(c, :) = theta';\n",
    "    end\n",
    "end"
   ]
  },
  {
   "cell_type": "code",
   "execution_count": 20,
   "metadata": {
    "vscode": {
     "languageId": "octave"
    }
   },
   "outputs": [
    {
     "name": "stdout",
     "output_type": "stream",
     "text": [
      "Created file '/Users/jchien/workspace/courses/coursera_ml/ex3/octave/libs/predictOneVsAll.m'.\n"
     ]
    }
   ],
   "source": [
    "%%file ../libs/predictOneVsAll.m\n",
    "function p = predictOneVsAll(all_theta, X)\n",
    "    m = size(X, 1);\n",
    "    num_labels = size(all_theta, 1);\n",
    "\n",
    "    p = zeros(m, 1);\n",
    "    X = [ones(m, 1) X];\n",
    "\n",
    "    temp = X * all_theta';\n",
    "    [value, index] = max(temp, [], 2);\n",
    "    p = index;\n",
    "end"
   ]
  },
  {
   "cell_type": "code",
   "execution_count": 23,
   "metadata": {
    "vscode": {
     "languageId": "octave"
    }
   },
   "outputs": [
    {
     "name": "stdout",
     "output_type": "stream",
     "text": [
      "Created file '/Users/jchien/workspace/courses/coursera_ml/ex3/octave/libs/predict.m'.\n"
     ]
    }
   ],
   "source": [
    "%%file ../libs/predict.m\n",
    "function p = predict(Theta1, Theta2, X)\n",
    "    m = size(X, 1);\n",
    "    num_labels = size(Theta2, 1);\n",
    "    p = zeros(m, 1);\n",
    "\n",
    "    X = [ones(m, 1) X];\n",
    "\n",
    "    a1 = X;\n",
    "\n",
    "    z2 = a1 * Theta1';\n",
    "    a2 = [ones(m, 1) sigmoid(z2)];\n",
    "\n",
    "    z3 = a2 * Theta2';\n",
    "    a3 = sigmoid(z3);\n",
    "\n",
    "    [value, index] = max(a3, [], 2);\n",
    "    p = index;\n",
    "end"
   ]
  },
  {
   "cell_type": "markdown",
   "metadata": {},
   "source": [
    "# Vectorized NN forward propagation\n",
    "\n",
    "try to mimic API from tensorflow.\n",
    "\n",
    "In the newer version of Andrew's ML course, the demension order of Weight(Theta) matrix in each layer has changed.\n",
    "\n",
    "In order to mimic API, I have to pass transposed Weight(Theta) to the vectorized implementation"
   ]
  },
  {
   "cell_type": "code",
   "execution_count": 4,
   "metadata": {
    "vscode": {
     "languageId": "octave"
    }
   },
   "outputs": [
    {
     "name": "stdout",
     "output_type": "stream",
     "text": [
      "Overwriting ../libs/dense.m\n"
     ]
    }
   ],
   "source": [
    "%%file ../libs/dense.m\n",
    "function A_out = dense(A, W, g)\n",
    "    % Vectorized NN layer\n",
    "    %\n",
    "    % A is input matrix\n",
    "    % W is transposed Theta\n",
    "    % g is activation function\n",
    "\n",
    "    m = size(A, 1);\n",
    "    Z = [ones(m, 1) A] * W;\n",
    "    A_out = g(Z);\n",
    "end"
   ]
  },
  {
   "cell_type": "code",
   "execution_count": 5,
   "metadata": {
    "vscode": {
     "languageId": "octave"
    }
   },
   "outputs": [
    {
     "name": "stdout",
     "output_type": "stream",
     "text": [
      "Overwriting ../libs/sequencial.m\n"
     ]
    }
   ],
   "source": [
    "%%file ../libs/sequencial.m\n",
    "function A_out = sequencial(A, Ws, g)\n",
    "    % Vectorized NN forward propagation\n",
    "    %\n",
    "    % A is input matrix\n",
    "    % Ws is a cell array store transposed Theta\n",
    "    % g is activation function\n",
    "\n",
    "    for i = 1:length(Ws)\n",
    "        A = dense(A, Ws{i}, g);\n",
    "    end\n",
    "    A_out = A;\n",
    "end"
   ]
  },
  {
   "cell_type": "code",
   "execution_count": 6,
   "metadata": {
    "vscode": {
     "languageId": "octave"
    }
   },
   "outputs": [
    {
     "name": "stdout",
     "output_type": "stream",
     "text": [
      "Overwriting ../libs/vectorizedPredict.m\n"
     ]
    }
   ],
   "source": [
    "%%file ../libs/vectorizedPredict.m\n",
    "function p = vectorizedPredict(A, Ws, g)\n",
    "    % Vectorized NN predict function\n",
    "    %\n",
    "    % A is input matrix\n",
    "    % Ws is a cell array store transposed Theta\n",
    "    % g is activation function\n",
    "\n",
    "    f_x = sequencial(A, Ws, g);\n",
    "    [value, p] = max(f_x, [], 2);\n",
    "end"
   ]
  },
  {
   "cell_type": "markdown",
   "metadata": {},
   "source": [
    "# Helper"
   ]
  },
  {
   "cell_type": "code",
   "execution_count": 19,
   "metadata": {
    "vscode": {
     "languageId": "octave"
    }
   },
   "outputs": [
    {
     "name": "stdout",
     "output_type": "stream",
     "text": [
      "Created file '/Users/jchien/workspace/courses/coursera_ml/ex3/octave/libs/fmincg.m'.\n"
     ]
    }
   ],
   "source": [
    "%%file ../libs/fmincg.m\n",
    "function [X, fX, i] = fmincg(f, X, options, P1, P2, P3, P4, P5)\n",
    "    % Minimize a continuous differentialble multivariate function. Starting point\n",
    "    % is given by \"X\" (D by 1), and the function named in the string \"f\", must\n",
    "    % return a function value and a vector of partial derivatives. The Polack-\n",
    "    % Ribiere flavour of conjugate gradients is used to compute search directions,\n",
    "    % and a line search using quadratic and cubic polynomial approximations and the\n",
    "    % Wolfe-Powell stopping criteria is used together with the slope ratio method\n",
    "    % for guessing initial step sizes. Additionally a bunch of checks are made to\n",
    "    % make sure that exploration is taking place and that extrapolation will not\n",
    "    % be unboundedly large. The \"length\" gives the length of the run: if it is\n",
    "    % positive, it gives the maximum number of line searches, if negative its\n",
    "    % absolute gives the maximum allowed number of function evaluations. You can\n",
    "    % (optionally) give \"length\" a second component, which will indicate the\n",
    "    % reduction in function value to be expected in the first line-search (defaults\n",
    "    % to 1.0). The function returns when either its length is up, or if no further\n",
    "    % progress can be made (ie, we are at a minimum, or so close that due to\n",
    "    % numerical problems, we cannot get any closer). If the function terminates\n",
    "    % within a few iterations, it could be an indication that the function value\n",
    "    % and derivatives are not consistent (ie, there may be a bug in the\n",
    "    % implementation of your \"f\" function). The function returns the found\n",
    "    % solution \"X\", a vector of function values \"fX\" indicating the progress made\n",
    "    % and \"i\" the number of iterations (line searches or function evaluations,\n",
    "    % depending on the sign of \"length\") used.\n",
    "    %\n",
    "    % Usage: [X, fX, i] = fmincg(f, X, options, P1, P2, P3, P4, P5)\n",
    "    %\n",
    "    % See also: checkgrad \n",
    "    %\n",
    "    % Copyright (C) 2001 and 2002 by Carl Edward Rasmussen. Date 2002-02-13\n",
    "    %\n",
    "    %\n",
    "    % (C) Copyright 1999, 2000 & 2001, Carl Edward Rasmussen\n",
    "    % \n",
    "    % Permission is granted for anyone to copy, use, or modify these\n",
    "    % programs and accompanying documents for purposes of research or\n",
    "    % education, provided this copyright notice is retained, and note is\n",
    "    % made of any changes that have been made.\n",
    "    % \n",
    "    % These programs and documents are distributed without any warranty,\n",
    "    % express or implied.  As the programs were written for research\n",
    "    % purposes only, they have not been tested to the degree that would be\n",
    "    % advisable in any important application.  All use of these programs is\n",
    "    % entirely at the user's own risk.\n",
    "    %\n",
    "    % [ml-class] Changes Made:\n",
    "    % 1) Function name and argument specifications\n",
    "    % 2) Output display\n",
    "    %\n",
    "\n",
    "    % Read options\n",
    "    if exist('options', 'var') && ~isempty(options) && isfield(options, 'MaxIter')\n",
    "        length = options.MaxIter;\n",
    "    else\n",
    "        length = 100;\n",
    "    end\n",
    "\n",
    "\n",
    "    RHO = 0.01;                            % a bunch of constants for line searches\n",
    "    SIG = 0.5;       % RHO and SIG are the constants in the Wolfe-Powell conditions\n",
    "    INT = 0.1;    % don't reevaluate within 0.1 of the limit of the current bracket\n",
    "    EXT = 3.0;                    % extrapolate maximum 3 times the current bracket\n",
    "    MAX = 20;                         % max 20 function evaluations per line search\n",
    "    RATIO = 100;                                      % maximum allowed slope ratio\n",
    "\n",
    "    argstr = ['feval(f, X'];                      % compose string used to call function\n",
    "    for i = 1:(nargin - 3)\n",
    "        argstr = [argstr, ',P', int2str(i)];\n",
    "    end\n",
    "    argstr = [argstr, ')'];\n",
    "\n",
    "    if max(size(length)) == 2, red=length(2); length=length(1); else red=1; end\n",
    "    S=['Iteration '];\n",
    "\n",
    "    i = 0;                                            % zero the run length counter\n",
    "    ls_failed = 0;                             % no previous line search has failed\n",
    "    fX = [];\n",
    "    [f1 df1] = eval(argstr);                      % get function value and gradient\n",
    "    i = i + (length<0);                                            % count epochs?!\n",
    "    s = -df1;                                        % search direction is steepest\n",
    "    d1 = -s'*s;                                                 % this is the slope\n",
    "    z1 = red/(1-d1);                                  % initial step is red/(|s|+1)\n",
    "\n",
    "    while i < abs(length)                                      % while not finished\n",
    "        i = i + (length>0);                                      % count iterations?!\n",
    "\n",
    "        X0 = X; f0 = f1; df0 = df1;                   % make a copy of current values\n",
    "        X = X + z1*s;                                             % begin line search\n",
    "        [f2 df2] = eval(argstr);\n",
    "        i = i + (length<0);                                          % count epochs?!\n",
    "        d2 = df2'*s;\n",
    "        f3 = f1; d3 = d1; z3 = -z1;             % initialize point 3 equal to point 1\n",
    "        if length>0, M = MAX; else M = min(MAX, -length-i); end\n",
    "        success = 0; limit = -1;                     % initialize quanteties\n",
    "        while 1\n",
    "            while ((f2 > f1+z1*RHO*d1) || (d2 > -SIG*d1)) && (M > 0) \n",
    "                limit = z1;                                         % tighten the bracket\n",
    "                if f2 > f1\n",
    "                  z2 = z3 - (0.5*d3*z3*z3)/(d3*z3+f2-f3);                 % quadratic fit\n",
    "                else\n",
    "                  A = 6*(f2-f3)/z3+3*(d2+d3);                                 % cubic fit\n",
    "                  B = 3*(f3-f2)-z3*(d3+2*d2);\n",
    "                  z2 = (sqrt(B*B-A*d2*z3*z3)-B)/A;       % numerical error possible - ok!\n",
    "                end\n",
    "                if isnan(z2) || isinf(z2)\n",
    "                  z2 = z3/2;                  % if we had a numerical problem then bisect\n",
    "                end\n",
    "                z2 = max(min(z2, INT*z3),(1-INT)*z3);  % don't accept too close to limits\n",
    "                z1 = z1 + z2;                                           % update the step\n",
    "                X = X + z2*s;\n",
    "                [f2 df2] = eval(argstr);\n",
    "                M = M - 1; i = i + (length<0);                           % count epochs?!\n",
    "                d2 = df2'*s;\n",
    "                z3 = z3-z2;                    % z3 is now relative to the location of z2\n",
    "            end\n",
    "            if f2 > f1+z1*RHO*d1 || d2 > -SIG*d1\n",
    "                break;                                                % this is a failure\n",
    "            elseif d2 > SIG*d1\n",
    "                success = 1; break;                                             % success\n",
    "            elseif M == 0\n",
    "                break;                                                          % failure\n",
    "            end\n",
    "            A = 6*(f2-f3)/z3+3*(d2+d3);                      % make cubic extrapolation\n",
    "            B = 3*(f3-f2)-z3*(d3+2*d2);\n",
    "            z2 = -d2*z3*z3/(B+sqrt(B*B-A*d2*z3*z3));        % num. error possible - ok!\n",
    "            if ~isreal(z2) || isnan(z2) || isinf(z2) || z2 < 0   % num prob or wrong sign?\n",
    "                if limit < -0.5                               % if we have no upper limit\n",
    "                    z2 = z1 * (EXT-1);                 % the extrapolate the maximum amount\n",
    "                else\n",
    "                    z2 = (limit-z1)/2;                                   % otherwise bisect\n",
    "                end\n",
    "            elseif (limit > -0.5) && (z2+z1 > limit)          % extraplation beyond max?\n",
    "                z2 = (limit-z1)/2;                                               % bisect\n",
    "            elseif (limit < -0.5) && (z2+z1 > z1*EXT)       % extrapolation beyond limit\n",
    "                z2 = z1*(EXT-1.0);                           % set to extrapolation limit\n",
    "            elseif z2 < -z3*INT\n",
    "                z2 = -z3*INT;\n",
    "            elseif (limit > -0.5) && (z2 < (limit-z1)*(1.0-INT))   % too close to limit?\n",
    "                z2 = (limit-z1)*(1.0-INT);\n",
    "            end\n",
    "            f3 = f2; d3 = d2; z3 = -z2;                  % set point 3 equal to point 2\n",
    "            z1 = z1 + z2; X = X + z2*s;                      % update current estimates\n",
    "            [f2 df2] = eval(argstr);\n",
    "            M = M - 1; i = i + (length<0);                             % count epochs?!\n",
    "            d2 = df2'*s;\n",
    "        end                                                      % end of line search\n",
    "\n",
    "        if success                                         % if line search succeeded\n",
    "            f1 = f2; fX = [fX' f1]';\n",
    "            fprintf('%s %4i | Cost: %4.6e\\r', S, i, f1);\n",
    "            s = (df2'*df2-df1'*df2)/(df1'*df1)*s - df2;      % Polack-Ribiere direction\n",
    "            tmp = df1; df1 = df2; df2 = tmp;                         % swap derivatives\n",
    "            d2 = df1'*s;\n",
    "            if d2 > 0                                      % new slope must be negative\n",
    "                s = -df1;                              % otherwise use steepest direction\n",
    "                d2 = -s'*s;    \n",
    "            end\n",
    "            z1 = z1 * min(RATIO, d1/(d2-realmin));          % slope ratio but max RATIO\n",
    "            d1 = d2;\n",
    "            ls_failed = 0;                              % this line search did not fail\n",
    "        else\n",
    "          X = X0; f1 = f0; df1 = df0;  % restore point from before failed line search\n",
    "          if ls_failed || i > abs(length)          % line search failed twice in a row\n",
    "              break;                             % or we ran out of time, so we give up\n",
    "          end\n",
    "          tmp = df1; df1 = df2; df2 = tmp;                         % swap derivatives\n",
    "          s = -df1;                                                    % try steepest\n",
    "          d1 = -s'*s;\n",
    "          z1 = 1/(1-d1);                     \n",
    "          ls_failed = 1;                                    % this line search failed\n",
    "        end\n",
    "        if exist('OCTAVE_VERSION')\n",
    "            fflush(stdout);\n",
    "        end\n",
    "      end\n",
    "end\n"
   ]
  }
 ],
 "metadata": {
  "kernelspec": {
   "display_name": "Octave",
   "language": "octave",
   "name": "octave"
  },
  "language_info": {
   "codemirror_mode": {
    "name": "ipython",
    "version": 3
   },
   "file_extension": ".py",
   "mimetype": "text/x-python",
   "name": "python",
   "nbconvert_exporter": "python",
   "pygments_lexer": "ipython3",
   "version": "3.10.4"
  },
  "orig_nbformat": 4
 },
 "nbformat": 4,
 "nbformat_minor": 2
}
