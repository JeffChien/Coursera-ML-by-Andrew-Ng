{
 "cells": [
  {
   "cell_type": "code",
   "execution_count": 222,
   "metadata": {},
   "outputs": [],
   "source": [
    "graphics_toolkit('qt')"
   ]
  },
  {
   "cell_type": "code",
   "execution_count": 223,
   "metadata": {},
   "outputs": [],
   "source": [
    "addpath('../libs/');"
   ]
  },
  {
   "cell_type": "markdown",
   "metadata": {},
   "source": [
    "# 1. Neural Networks"
   ]
  },
  {
   "cell_type": "markdown",
   "metadata": {},
   "source": [
    "## 1.1 Visualize data"
   ]
  },
  {
   "cell_type": "code",
   "execution_count": 224,
   "metadata": {},
   "outputs": [],
   "source": [
    "input_layer_size = 400;\n",
    "hidden_layer_size = 25;\n",
    "num_labels = 10;"
   ]
  },
  {
   "cell_type": "code",
   "execution_count": 225,
   "metadata": {},
   "outputs": [],
   "source": [
    "load('../../data/ex4data1.mat');\n",
    "m = size(X, 1);"
   ]
  },
  {
   "cell_type": "code",
   "execution_count": 226,
   "metadata": {},
   "outputs": [
    {
     "name": "stdout",
     "output_type": "stream",
     "text": [
      "ans = -4.5193\n"
     ]
    },
    {
     "data": {
      "image/png": "[encoded data removed]",
      "text/plain": [
       "<IPython.core.display.Image object>"
      ]
     },
     "metadata": {},
     "output_type": "display_data"
    }
   ],
   "source": [
    "sel = randperm(m);\n",
    "sel = sel(1:100);\n",
    "displayData(X(sel, :))"
   ]
  },
  {
   "cell_type": "markdown",
   "metadata": {},
   "source": [
    "# 2. load parameters"
   ]
  },
  {
   "cell_type": "code",
   "execution_count": 227,
   "metadata": {},
   "outputs": [],
   "source": [
    "load('../../data/ex4weights.mat');"
   ]
  },
  {
   "cell_type": "code",
   "execution_count": 228,
   "metadata": {},
   "outputs": [],
   "source": [
    "nn_params = [Theta1(:); Theta2(:)];"
   ]
  },
  {
   "cell_type": "code",
   "execution_count": 229,
   "metadata": {},
   "outputs": [
    {
     "name": "stdout",
     "output_type": "stream",
     "text": [
      "Cost 0.287629 with no regularization should be 0.287629 \n"
     ]
    }
   ],
   "source": [
    "lambda = 0;\n",
    "J = nnCostFunction(nn_params, input_layer_size, hidden_layer_size, num_labels, X, y, lambda);\n",
    "fprintf('Cost %f with no regularization should be 0.287629 \\n', J);"
   ]
  },
  {
   "cell_type": "code",
   "execution_count": 230,
   "metadata": {},
   "outputs": [
    {
     "name": "stdout",
     "output_type": "stream",
     "text": [
      "Cost 0.383770 with regularization should be 0.383770 \n"
     ]
    }
   ],
   "source": [
    "lambda = 1;\n",
    "J = nnCostFunction(nn_params, input_layer_size, hidden_layer_size, num_labels, X, y, lambda);\n",
    "fprintf('Cost %f with regularization should be 0.383770 \\n', J)"
   ]
  },
  {
   "cell_type": "code",
   "execution_count": 231,
   "metadata": {},
   "outputs": [
    {
     "name": "stdout",
     "output_type": "stream",
     "text": [
      "sigmoid gradient 0.000045\n",
      "sigmoid gradient 0.196612\n",
      "sigmoid gradient 0.235004\n",
      "sigmoid gradient 0.250000\n",
      "sigmoid gradient 0.235004\n",
      "sigmoid gradient 0.196612\n",
      "sigmoid gradient 0.000045\n"
     ]
    }
   ],
   "source": [
    "gd = sigmoidGradient([-10 1 -0.5 0 0.5 1 10]);\n",
    "fprintf('sigmoid gradient %f\\n', gd);"
   ]
  },
  {
   "cell_type": "markdown",
   "metadata": {},
   "source": [
    "## Random initializing parameters"
   ]
  },
  {
   "cell_type": "code",
   "execution_count": 250,
   "metadata": {},
   "outputs": [],
   "source": [
    "initial_Theta1 = randInitializeWeights(input_layer_size, hidden_layer_size);\n",
    "initial_Theta2 = randInitializeWeights(hidden_layer_size, num_labels);\n",
    "initial_nn_params = [initial_Theta1(:) ; initial_Theta2(:)];"
   ]
  },
  {
   "cell_type": "markdown",
   "metadata": {},
   "source": [
    "## Backpropagation"
   ]
  },
  {
   "cell_type": "markdown",
   "metadata": {},
   "source": [
    "## Gradient checking"
   ]
  },
  {
   "cell_type": "code",
   "execution_count": 233,
   "metadata": {},
   "outputs": [
    {
     "name": "stdout",
     "output_type": "stream",
     "text": [
      "  -9.2783e-03  -9.2783e-03\n",
      "   8.8991e-03   8.8991e-03\n",
      "  -8.3601e-03  -8.3601e-03\n",
      "   7.6281e-03   7.6281e-03\n",
      "  -6.7480e-03  -6.7480e-03\n",
      "  -3.0498e-06  -3.0498e-06\n",
      "   1.4287e-05   1.4287e-05\n",
      "  -2.5938e-05  -2.5938e-05\n",
      "   3.6988e-05   3.6988e-05\n",
      "  -4.6876e-05  -4.6876e-05\n",
      "  -1.7506e-04  -1.7506e-04\n",
      "   2.3315e-04   2.3315e-04\n",
      "  -2.8747e-04  -2.8747e-04\n",
      "   3.3532e-04   3.3532e-04\n",
      "  -3.7622e-04  -3.7622e-04\n",
      "  -9.6266e-05  -9.6266e-05\n",
      "   1.1798e-04   1.1798e-04\n",
      "  -1.3715e-04  -1.3715e-04\n",
      "   1.5325e-04   1.5325e-04\n",
      "  -1.6656e-04  -1.6656e-04\n",
      "   3.1454e-01   3.1454e-01\n",
      "   1.1106e-01   1.1106e-01\n",
      "   9.7401e-02   9.7401e-02\n",
      "   1.6409e-01   1.6409e-01\n",
      "   5.7574e-02   5.7574e-02\n",
      "   5.0458e-02   5.0458e-02\n",
      "   1.6457e-01   1.6457e-01\n",
      "   5.7787e-02   5.7787e-02\n",
      "   5.0753e-02   5.0753e-02\n",
      "   1.5834e-01   1.5834e-01\n",
      "   5.5924e-02   5.5924e-02\n",
      "   4.9162e-02   4.9162e-02\n",
      "   1.5113e-01   1.5113e-01\n",
      "   5.3697e-02   5.3697e-02\n",
      "   4.7146e-02   4.7146e-02\n",
      "   1.4957e-01   1.4957e-01\n",
      "   5.3154e-02   5.3154e-02\n",
      "   4.6560e-02   4.6560e-02\n",
      "The above two columns you get should be very similar.\n",
      "(Left-Your Numerical Gradient, Right-Analytical Gradient)\n",
      "\n",
      "If your backpropagation implementation is correct, then \n",
      "the relative difference will be small (less than 1e-9). \n",
      "\n",
      "Relative Difference: 2.28896e-11\n"
     ]
    }
   ],
   "source": [
    "checkNNGradients(0);"
   ]
  },
  {
   "cell_type": "code",
   "execution_count": 234,
   "metadata": {},
   "outputs": [
    {
     "name": "stdout",
     "output_type": "stream",
     "text": [
      "lambda = 3\n"
     ]
    }
   ],
   "source": [
    "lambda = 3"
   ]
  },
  {
   "cell_type": "code",
   "execution_count": 235,
   "metadata": {},
   "outputs": [
    {
     "name": "stdout",
     "output_type": "stream",
     "text": [
      "  -9.2783e-03  -9.2783e-03\n",
      "   8.8991e-03   8.8991e-03\n",
      "  -8.3601e-03  -8.3601e-03\n",
      "   7.6281e-03   7.6281e-03\n",
      "  -6.7480e-03  -6.7480e-03\n",
      "  -1.6768e-02  -1.6768e-02\n",
      "   3.9433e-02   3.9433e-02\n",
      "   5.9336e-02   5.9336e-02\n",
      "   2.4764e-02   2.4764e-02\n",
      "  -3.2688e-02  -3.2688e-02\n",
      "  -6.0174e-02  -6.0174e-02\n",
      "  -3.1961e-02  -3.1961e-02\n",
      "   2.4923e-02   2.4923e-02\n",
      "   5.9772e-02   5.9772e-02\n",
      "   3.8641e-02   3.8641e-02\n",
      "  -1.7370e-02  -1.7370e-02\n",
      "  -5.7566e-02  -5.7566e-02\n",
      "  -4.5196e-02  -4.5196e-02\n",
      "   9.1459e-03   9.1459e-03\n",
      "   5.4610e-02   5.4610e-02\n",
      "   3.1454e-01   3.1454e-01\n",
      "   1.1106e-01   1.1106e-01\n",
      "   9.7401e-02   9.7401e-02\n",
      "   1.1868e-01   1.1868e-01\n",
      "   3.8193e-05   3.8193e-05\n",
      "   3.3693e-02   3.3693e-02\n",
      "   2.0399e-01   2.0399e-01\n",
      "   1.1715e-01   1.1715e-01\n",
      "   7.5480e-02   7.5480e-02\n",
      "   1.2570e-01   1.2570e-01\n",
      "  -4.0759e-03  -4.0759e-03\n",
      "   1.6968e-02   1.6968e-02\n",
      "   1.7634e-01   1.7634e-01\n",
      "   1.1313e-01   1.1313e-01\n",
      "   8.6163e-02   8.6163e-02\n",
      "   1.3229e-01   1.3229e-01\n",
      "  -4.5296e-03  -4.5296e-03\n",
      "   1.5005e-03   1.5005e-03\n",
      "The above two columns you get should be very similar.\n",
      "(Left-Your Numerical Gradient, Right-Analytical Gradient)\n",
      "\n",
      "If your backpropagation implementation is correct, then \n",
      "the relative difference will be small (less than 1e-9). \n",
      "\n",
      "Relative Difference: 2.21135e-11\n"
     ]
    }
   ],
   "source": [
    "checkNNGradients(lambda);"
   ]
  },
  {
   "cell_type": "code",
   "execution_count": 236,
   "metadata": {},
   "outputs": [
    {
     "name": "stdout",
     "output_type": "stream",
     "text": [
      "cost at fixed debugging parameters (w/ lambda=3) : 0.576051 \n",
      "this value should be about 0.576051"
     ]
    }
   ],
   "source": [
    "debug_J = nnCostFunction(nn_params, input_layer_size, hidden_layer_size, num_labels, X, y, lambda);\n",
    "fprintf('cost at fixed debugging parameters (w/ lambda=3) : %f \\n', debug_J);\n",
    "fprintf('this value should be about 0.576051');"
   ]
  },
  {
   "cell_type": "markdown",
   "metadata": {},
   "source": [
    "# Training\n",
    "\n",
    "without regulation, NN is possible to overfit a training set so it obtains close to 100% accuracy.\n"
   ]
  },
  {
   "cell_type": "code",
   "execution_count": 251,
   "metadata": {},
   "outputs": [],
   "source": [
    "options = optimset('MaxIter', 100);\n",
    "lambda = 1;\n",
    "costFunction = @(p) nnCostFunction(p, ...\n",
    "                        input_layer_size, ...\n",
    "                        hidden_layer_size, ...\n",
    "                        num_labels, X, y, lambda);"
   ]
  },
  {
   "cell_type": "code",
   "execution_count": 252,
   "metadata": {},
   "outputs": [
    {
     "name": "stdout",
     "output_type": "stream",
     "text": [
      "Iteration   100 | Cost: 3.655181e-01\r"
     ]
    }
   ],
   "source": [
    "[nn_params, cost] = fmincg(costFunction, initial_nn_params, options);\n",
    "Theta1 = reshape(nn_params(1:hidden_layer_size * (input_layer_size + 1)), ...\n",
    "                 hidden_layer_size, (input_layer_size + 1));\n",
    "\n",
    "Theta2 = reshape(nn_params((1 + (hidden_layer_size * (input_layer_size + 1))):end), ...\n",
    "                 num_labels, (hidden_layer_size + 1));"
   ]
  },
  {
   "cell_type": "markdown",
   "metadata": {},
   "source": [
    "# Visualize the hidden layer"
   ]
  },
  {
   "cell_type": "code",
   "execution_count": 239,
   "metadata": {},
   "outputs": [
    {
     "data": {
      "image/png": "[encoded data removed]",
      "text/plain": [
       "<IPython.core.display.Image object>"
      ]
     },
     "metadata": {},
     "output_type": "display_data"
    }
   ],
   "source": [
    "displayData(Theta1(:, 2:end));"
   ]
  },
  {
   "cell_type": "code",
   "execution_count": 253,
   "metadata": {},
   "outputs": [
    {
     "name": "stdout",
     "output_type": "stream",
     "text": [
      "Training Set Accuracy: 98.240000\n"
     ]
    }
   ],
   "source": [
    "pred = predict(Theta1, Theta2, X);\n",
    "fprintf('Training Set Accuracy: %f\\n', mean(double(pred==y)) * 100);"
   ]
  }
 ],
 "metadata": {
  "kernelspec": {
   "display_name": "Octave",
   "language": "octave",
   "name": "octave"
  },
  "language_info": {
   "file_extension": ".m",
   "help_links": [
    {
     "text": "GNU Octave",
     "url": "https://www.gnu.org/software/octave/support.html"
    },
    {
     "text": "Octave Kernel",
     "url": "https://github.com/Calysto/octave_kernel"
    },
    {
     "text": "MetaKernel Magics",
     "url": "https://metakernel.readthedocs.io/en/latest/source/README.html"
    }
   ],
   "mimetype": "text/x-octave",
   "name": "octave",
   "version": "7.1.0"
  },
  "orig_nbformat": 4,
  "vscode": {
   "interpreter": {
    "hash": "78085f80e15a7736ac1017358e79479ec892a173a5f11cd4b2f9ba4c9c3f203b"
   }
  }
 },
 "nbformat": 4,
 "nbformat_minor": 2
}
