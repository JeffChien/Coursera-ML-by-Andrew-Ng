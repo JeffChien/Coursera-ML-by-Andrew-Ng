{
 "cells": [
  {
   "cell_type": "code",
   "execution_count": 2,
   "metadata": {},
   "outputs": [],
   "source": [
    "graphics_toolkit('qt')"
   ]
  },
  {
   "cell_type": "code",
   "execution_count": 3,
   "metadata": {},
   "outputs": [],
   "source": [
    "addpath('../libs/');"
   ]
  },
  {
   "cell_type": "markdown",
   "metadata": {},
   "source": [
    "# Prepocessing emails"
   ]
  },
  {
   "cell_type": "code",
   "execution_count": 14,
   "metadata": {},
   "outputs": [],
   "source": [
    "[vocabList, vocabListReversed] = getVocabList('../../data/vocab.txt');"
   ]
  },
  {
   "cell_type": "code",
   "execution_count": 15,
   "metadata": {},
   "outputs": [],
   "source": [
    "file_contents = readFile('../../data/emailSample1.txt');\n",
    "word_indices = processEmail(file_contents, vocabList);"
   ]
  },
  {
   "cell_type": "code",
   "execution_count": 16,
   "metadata": {},
   "outputs": [
    {
     "name": "stdout",
     "output_type": "stream",
     "text": [
      "Word Indices: \n",
      " 86 916 794 1077 883 370 1699 790 1822 1831 883 431 1171 794 1002 1893 1364 592 1676 238 162 89 688 945 1663 1120 1062 1699 375 1162 479 1893 1510 799 1182 1237 810 1895 1440 1547 181 1699 1758 1896 688 1676 992 961 1477 71 530 1699 531\n",
      "\n"
     ]
    }
   ],
   "source": [
    "% Print Stats\n",
    "fprintf('Word Indices: \\n');\n",
    "fprintf(' %d', word_indices);\n",
    "fprintf('\\n\\n');"
   ]
  },
  {
   "cell_type": "markdown",
   "metadata": {},
   "source": [
    "## Feature extraction"
   ]
  },
  {
   "cell_type": "code",
   "execution_count": 17,
   "metadata": {},
   "outputs": [],
   "source": [
    "file_contents = readFile('../../data/emailSample1.txt');\n",
    "word_indices = processEmail(file_contents, vocabList);\n",
    "features = emailFeatures(word_indices);"
   ]
  },
  {
   "cell_type": "code",
   "execution_count": 18,
   "metadata": {},
   "outputs": [
    {
     "name": "stdout",
     "output_type": "stream",
     "text": [
      "Length of feature vector: 1899\n",
      "Number of non-zero entries: 45\n"
     ]
    }
   ],
   "source": [
    "% Print Stats\n",
    "fprintf('Length of feature vector: %d\\n', length(features));\n",
    "fprintf('Number of non-zero entries: %d\\n', sum(features > 0));"
   ]
  },
  {
   "cell_type": "markdown",
   "metadata": {},
   "source": [
    "## Train Linear SVM for Spam Classification"
   ]
  },
  {
   "cell_type": "code",
   "execution_count": 19,
   "metadata": {},
   "outputs": [],
   "source": [
    "load('../../data/spamTrain.mat');"
   ]
  },
  {
   "cell_type": "code",
   "execution_count": 21,
   "metadata": {},
   "outputs": [
    {
     "name": "stdout",
     "output_type": "stream",
     "text": [
      "\n",
      "Training ......................................................................\n",
      "...............................................................................\n",
      "...............................................................................\n",
      "........................................ Done! \n",
      "\n"
     ]
    }
   ],
   "source": [
    "C = 0.1;\n",
    "model = svmTrain(X, y, C, @linearKernel);"
   ]
  },
  {
   "cell_type": "code",
   "execution_count": 22,
   "metadata": {},
   "outputs": [
    {
     "name": "stdout",
     "output_type": "stream",
     "text": [
      "Training Accuracy: 99.825000\n"
     ]
    }
   ],
   "source": [
    "p = svmPredict(model, X);\n",
    "fprintf('Training Accuracy: %f\\n', mean(double(p == y)) * 100);"
   ]
  },
  {
   "cell_type": "markdown",
   "metadata": {},
   "source": [
    "### Test Spam Classification"
   ]
  },
  {
   "cell_type": "code",
   "execution_count": 23,
   "metadata": {},
   "outputs": [
    {
     "name": "stdout",
     "output_type": "stream",
     "text": [
      "Test Accuracy: 98.700000\n"
     ]
    }
   ],
   "source": [
    "load('../../data/spamTest.mat');\n",
    "p = svmPredict(model, Xtest);\n",
    "fprintf('Test Accuracy: %f\\n', mean(double(p == ytest)) * 100);"
   ]
  },
  {
   "cell_type": "markdown",
   "metadata": {},
   "source": [
    "### Top predictors of Spam"
   ]
  },
  {
   "cell_type": "code",
   "execution_count": 24,
   "metadata": {},
   "outputs": [
    {
     "name": "stdout",
     "output_type": "stream",
     "text": [
      "\n",
      "Top predictors of spam: \n",
      " our             (0.503158) \n",
      " click           (0.462220) \n",
      " remov           (0.416805) \n",
      " guarante        (0.389823) \n",
      " visit           (0.369379) \n",
      " basenumb        (0.341222) \n",
      " dollar          (0.320755) \n",
      " will            (0.270624) \n",
      " price           (0.266652) \n",
      " pleas           (0.263620) \n",
      " lo              (0.257981) \n",
      " most            (0.252696) \n",
      " nbsp            (0.251416) \n",
      " ga              (0.245294) \n",
      " se              (0.240361) \n"
     ]
    }
   ],
   "source": [
    "[weight, idx] = sort(model.w, 'descend');\n",
    "\n",
    "fprintf('\\nTop predictors of spam: \\n');\n",
    "for i = 1:15\n",
    "    fprintf(' %-15s (%f) \\n', vocabListReversed(idx(i)), weight(i));\n",
    "end"
   ]
  },
  {
   "cell_type": "markdown",
   "metadata": {},
   "source": [
    "### Try your own email"
   ]
  },
  {
   "cell_type": "code",
   "execution_count": 25,
   "metadata": {},
   "outputs": [
    {
     "name": "stdout",
     "output_type": "stream",
     "text": [
      "\n",
      "Processed ../../data/spamSample1.txt\n",
      "\n",
      "Spam Classification: 1\n",
      "(1 indicates spam, 0 indicates not spam)\n",
      "\n",
      "\n",
      "Processed ../../data/spamSample2.txt\n",
      "\n",
      "Spam Classification: 1\n",
      "(1 indicates spam, 0 indicates not spam)\n",
      "\n",
      "\n",
      "Processed ../../data/emailSample1.txt\n",
      "\n",
      "Spam Classification: 0\n",
      "(1 indicates spam, 0 indicates not spam)\n",
      "\n",
      "\n",
      "Processed ../../data/emailSample2.txt\n",
      "\n",
      "Spam Classification: 0\n",
      "(1 indicates spam, 0 indicates not spam)\n",
      "\n"
     ]
    }
   ],
   "source": [
    "filenames = cell();\n",
    "filenames{end+1} = '../../data/spamSample1.txt';\n",
    "filenames{end+1} = '../../data/spamSample2.txt';\n",
    "filenames{end+1} = '../../data/emailSample1.txt';\n",
    "filenames{end+1} = '../../data/emailSample2.txt';\n",
    "\n",
    "for i = 1: length(filenames)\n",
    "    % Read and predict\n",
    "    filename = filenames{i};\n",
    "    file_contents = readFile(filename);\n",
    "    word_indices  = processEmail(file_contents, vocabList);\n",
    "    x             = emailFeatures(word_indices);\n",
    "    p = svmPredict(model, x);\n",
    "\n",
    "    fprintf('\\nProcessed %s\\n\\nSpam Classification: %d\\n', filename, p);\n",
    "    fprintf('(1 indicates spam, 0 indicates not spam)\\n\\n');\n",
    "end"
   ]
  }
 ],
 "metadata": {
  "kernelspec": {
   "display_name": "Octave",
   "language": "octave",
   "name": "octave"
  },
  "language_info": {
   "file_extension": ".m",
   "help_links": [
    {
     "text": "GNU Octave",
     "url": "https://www.gnu.org/software/octave/support.html"
    },
    {
     "text": "Octave Kernel",
     "url": "https://github.com/Calysto/octave_kernel"
    },
    {
     "text": "MetaKernel Magics",
     "url": "https://metakernel.readthedocs.io/en/latest/source/README.html"
    }
   ],
   "mimetype": "text/x-octave",
   "name": "octave",
   "version": "7.1.0"
  },
  "orig_nbformat": 4,
  "vscode": {
   "interpreter": {
    "hash": "78085f80e15a7736ac1017358e79479ec892a173a5f11cd4b2f9ba4c9c3f203b"
   }
  }
 },
 "nbformat": 4,
 "nbformat_minor": 2
}
