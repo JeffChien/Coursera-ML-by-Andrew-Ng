{
 "cells": [
  {
   "cell_type": "code",
   "execution_count": 4,
   "metadata": {},
   "outputs": [
    {
     "name": "stdout",
     "output_type": "stream",
     "text": [
      "Created file '/Users/jchien/workspace/courses/coursera_ml/ex7/octave/libs/findClosestCentroids.m'.\n"
     ]
    }
   ],
   "source": [
    "%%file ../libs/findClosestCentroids.m\n",
    "function idx = findClosestCentroids(X, centroids)\n",
    "\n",
    "    m = size(X, 1);\n",
    "    K = size(centroids, 1);\n",
    "    idx = zeros(size(X, 1), 1);\n",
    "\n",
    "    for i = 1:m\n",
    "        x = X(i, :);\n",
    "        squared_error = sum((x - centroids) .^ 2, 2);\n",
    "        [val, muk] = min(squared_error);\n",
    "        idx(i) = muk;\n",
    "    end\n",
    "end"
   ]
  },
  {
   "cell_type": "code",
   "execution_count": 7,
   "metadata": {},
   "outputs": [
    {
     "name": "stdout",
     "output_type": "stream",
     "text": [
      "Created file '/Users/jchien/workspace/courses/coursera_ml/ex7/octave/libs/computeCentroids.m'.\n"
     ]
    }
   ],
   "source": [
    "%%file ../libs/computeCentroids.m\n",
    "function centroids = computeCentroids(X, idx, K)\n",
    "    [m, n] = size(X);\n",
    "\n",
    "    centroids = zeros(K, n);\n",
    "\n",
    "    for i = 1:K\n",
    "        ck = find(idx == i);\n",
    "        centroids(i, :) = sum(X(ck, :)) / numel(ck);\n",
    "    end\n",
    "end"
   ]
  },
  {
   "cell_type": "code",
   "execution_count": 13,
   "metadata": {},
   "outputs": [
    {
     "name": "stdout",
     "output_type": "stream",
     "text": [
      "Created file '/Users/jchien/workspace/courses/coursera_ml/ex7/octave/libs/kMeansInitCentroids.m'.\n"
     ]
    }
   ],
   "source": [
    "%%file ../libs/kMeansInitCentroids.m\n",
    "function centroids = kMeansInitCentroids(X, K)\n",
    "    centroids = zeros(K, size(X, 2));\n",
    "\n",
    "    randidx = randperm(size(X, 1));\n",
    "    centroids = X(randidx(1:K), :);\n",
    "end"
   ]
  },
  {
   "cell_type": "code",
   "execution_count": 3,
   "metadata": {},
   "outputs": [
    {
     "name": "stdout",
     "output_type": "stream",
     "text": [
      "Created file '/Users/jchien/workspace/courses/coursera_ml/ex7/octave/libs/pca.m'.\n"
     ]
    }
   ],
   "source": [
    "%%file ../libs/pca.m\n",
    "function [U, S] = pca(X)\n",
    "    [m, n] = size(X);\n",
    "\n",
    "    U = zeros(n);\n",
    "    S = zeros(n);\n",
    "\n",
    "    Sigma = (X' * X) ./ m;\n",
    "    [U, S, V] = svd(Sigma);\n",
    "end"
   ]
  },
  {
   "cell_type": "code",
   "execution_count": 10,
   "metadata": {},
   "outputs": [
    {
     "name": "stdout",
     "output_type": "stream",
     "text": [
      "Created file '/Users/jchien/workspace/courses/coursera_ml/ex7/octave/libs/projectData.m'.\n"
     ]
    }
   ],
   "source": [
    "%%file ../libs/projectData.m\n",
    "function Z = projectData(X, U, K)\n",
    "    Z = zeros(size(X, 1), K);\n",
    "\n",
    "    Z = X * U(:, 1:K); % (m x n) * (n x k)\n",
    "end"
   ]
  },
  {
   "cell_type": "code",
   "execution_count": 11,
   "metadata": {},
   "outputs": [
    {
     "name": "stdout",
     "output_type": "stream",
     "text": [
      "Created file '/Users/jchien/workspace/courses/coursera_ml/ex7/octave/libs/recoverData.m'.\n"
     ]
    }
   ],
   "source": [
    "%%file ../libs/recoverData.m\n",
    "function X_rec = recoverData(Z, U, K)\n",
    "\n",
    "    X_rec = zeros(size(Z, 1), size(U, 1)); # m x n\n",
    "\n",
    "    # Ureduced = (n x k)\n",
    "    # Z = (m x k)\n",
    "\n",
    "    X_rec = Z * U(:, 1:K)';\n",
    "\n",
    "end"
   ]
  },
  {
   "cell_type": "code",
   "execution_count": 4,
   "metadata": {},
   "outputs": [
    {
     "name": "stdout",
     "output_type": "stream",
     "text": [
      "Created file '/Users/jchien/workspace/courses/coursera_ml/ex7/octave/libs/pcaLoss.m'.\n"
     ]
    }
   ],
   "source": [
    "%%file ../libs/pcaLoss.m\n",
    "function loss = pcaLoss(X, Z, U, K)\n",
    "    m = size(X, 1);\n",
    "    X_rec = recoverData(Z, U, K);\n",
    "\n",
    "    loss = sum(sum((X_rec - X) .^ 2)) / sum(sum(X .^ 2));\n",
    "end"
   ]
  },
  {
   "cell_type": "code",
   "execution_count": 26,
   "metadata": {},
   "outputs": [
    {
     "name": "stdout",
     "output_type": "stream",
     "text": [
      "Created file '/Users/jchien/workspace/courses/coursera_ml/ex7/octave/libs/pcaLossQuick.m'.\n"
     ]
    }
   ],
   "source": [
    "%%file ../libs/pcaLossQuick.m\n",
    "function loss = pcaLossQuick(S, K)\n",
    "    n = size(S, 1);\n",
    "    psum = zeros(n+1, 1);\n",
    "    for i = 2:n+1\n",
    "        psum(i) = psum(i-1) + S(i-1, i-1);\n",
    "    end\n",
    "    loss = 1 - psum(K+1) / psum(end);\n",
    "end"
   ]
  },
  {
   "cell_type": "code",
   "execution_count": 32,
   "metadata": {},
   "outputs": [
    {
     "name": "stdout",
     "output_type": "stream",
     "text": [
      "Created file '/Users/jchien/workspace/courses/coursera_ml/ex7/octave/libs/pcaKinMaxLoss.m'.\n"
     ]
    }
   ],
   "source": [
    "%%file ../libs/pcaKinMaxLoss.m\n",
    "function K = pcaKinMaxLoss(S, max_loss=0.01)\n",
    "    n = size(S, 1);\n",
    "    lo = 1;\n",
    "    hi = n + 1;\n",
    "\n",
    "    psum = zeros(n+1, 1);\n",
    "    for i = 2:n+1\n",
    "        psum(i) = psum(i-1) + S(i-1, i-1);\n",
    "    end\n",
    "\n",
    "    while (lo < hi)\n",
    "        mid = floor(lo + (hi - lo) / 2);\n",
    "        loss = 1 - psum(mid+1) / psum(end);\n",
    "        if loss <= max_loss\n",
    "            hi = mid;\n",
    "        else\n",
    "            lo = mid + 1;\n",
    "        end\n",
    "    endwhile\n",
    "    K = lo;\n",
    "end"
   ]
  },
  {
   "cell_type": "markdown",
   "metadata": {},
   "source": [
    "# Helper"
   ]
  },
  {
   "cell_type": "code",
   "execution_count": 2,
   "metadata": {},
   "outputs": [
    {
     "name": "stdout",
     "output_type": "stream",
     "text": [
      "Created file '/Users/jchien/workspace/courses/coursera_ml/ex7/octave/libs/featureNormalize.m'.\n"
     ]
    }
   ],
   "source": [
    "%%file ../libs/featureNormalize.m\n",
    "function [X_norm, mu, sigma] = featureNormalize(X)\n",
    "    mu = mean(X);\n",
    "    X_norm = bsxfun(@minus, X, mu);\n",
    "    sigma = std(X_norm);\n",
    "    X_norm = bsxfun(@rdivide, X_norm, sigma);\n",
    "end"
   ]
  },
  {
   "cell_type": "code",
   "execution_count": 12,
   "metadata": {},
   "outputs": [
    {
     "name": "stdout",
     "output_type": "stream",
     "text": [
      "Created file '/Users/jchien/workspace/courses/coursera_ml/ex7/octave/libs/runkMeans.m'.\n"
     ]
    }
   ],
   "source": [
    "%%file ../libs/runkMeans.m\n",
    "function [centroids, idx] = runkMeans(X, initial_centroids, max_iters, plot_progress)\n",
    "    if ~exist('plot_progress', 'var') || isempty(plot_progress)\n",
    "        plot_progress = false;\n",
    "    end\n",
    "\n",
    "    if plot_progress\n",
    "        figure;\n",
    "        hold on;\n",
    "    end\n",
    "\n",
    "    [m, n] = size(X);\n",
    "    K = size(initial_centroids, 1);\n",
    "    centroids = initial_centroids;\n",
    "    previous_centroids = centroids;\n",
    "    idx = zeros(m, 1);\n",
    "\n",
    "    for i=1:max_iters\n",
    "        % Output progress\n",
    "        fprintf('K-Means iteration %d/%d...\\n', i, max_iters);\n",
    "        if exist('OCTAVE_VERSION')\n",
    "            fflush(stdout);\n",
    "        end\n",
    "        \n",
    "        % For each example in X, assign it to the closest centroid\n",
    "        idx = findClosestCentroids(X, centroids);\n",
    "        \n",
    "        % Optionally, plot progress here\n",
    "        if plot_progress\n",
    "            plotProgresskMeans(X, centroids, previous_centroids, idx, K, i);\n",
    "            previous_centroids = centroids;\n",
    "            % fprintf('Press enter to continue.\\n');\n",
    "            % pause;\n",
    "        end\n",
    "        \n",
    "        % Given the memberships, compute new centroids\n",
    "        centroids = computeCentroids(X, idx, K);\n",
    "    end\n",
    "    if plot_progress\n",
    "        hold off;\n",
    "    end\n",
    "end"
   ]
  },
  {
   "cell_type": "code",
   "execution_count": 8,
   "metadata": {},
   "outputs": [
    {
     "name": "stdout",
     "output_type": "stream",
     "text": [
      "Created file '/Users/jchien/workspace/courses/coursera_ml/ex7/octave/libs/displayData.m'.\n"
     ]
    }
   ],
   "source": [
    "%%file ../libs/displayData.m\n",
    "function [h, display_array] = displayData(X, example_width)\n",
    "\t%DISPLAYDATA Display 2D data in a nice grid\n",
    "\t%   [h, display_array] = DISPLAYDATA(X, example_width) displays 2D data\n",
    "\t%   stored in X in a nice grid. It returns the figure handle h and the \n",
    "\t%   displayed array if requested.\n",
    "\n",
    "\t% Set example_width automatically if not passed in\n",
    "\tif ~exist('example_width', 'var') || isempty(example_width) \n",
    "\t\texample_width = round(sqrt(size(X, 2)));\n",
    "\tend\n",
    "\n",
    "\t% Gray Image\n",
    "\tcolormap(gray);\n",
    "\n",
    "\t% Compute rows, cols\n",
    "\t[m n] = size(X);\n",
    "\texample_height = (n / example_width);\n",
    "\n",
    "\t% Compute number of items to display\n",
    "\tdisplay_rows = floor(sqrt(m));\n",
    "\tdisplay_cols = ceil(m / display_rows);\n",
    "\n",
    "\t% Between images padding\n",
    "\tpad = 1;\n",
    "\n",
    "\t% Setup blank display\n",
    "\tdisplay_array = - ones(pad + display_rows * (example_height + pad), ...\n",
    "\t\t\t\t\t\tpad + display_cols * (example_width + pad));\n",
    "\n",
    "\t% Copy each example into a patch on the display array\n",
    "\tcurr_ex = 1;\n",
    "\tfor j = 1:display_rows\n",
    "\t\tfor i = 1:display_cols\n",
    "\t\t\tif curr_ex > m, \n",
    "\t\t\t\tbreak; \n",
    "\t\t\tend\n",
    "\t\t\t% Copy the patch\n",
    "\t\t\t\n",
    "\t\t\t% Get the max value of the patch\n",
    "\t\t\tmax_val = max(abs(X(curr_ex, :)));\n",
    "\t\t\tdisplay_array(pad + (j - 1) * (example_height + pad) + (1:example_height), ...\n",
    "\t\t\t\t\t\tpad + (i - 1) * (example_width + pad) + (1:example_width)) = ...\n",
    "\t\t\t\t\t\t\treshape(X(curr_ex, :), example_height, example_width) / max_val;\n",
    "\t\t\tcurr_ex = curr_ex + 1;\n",
    "\t\tend\n",
    "\t\tif curr_ex > m, \n",
    "\t\t\tbreak; \n",
    "\t\tend\n",
    "\tend\n",
    "\n",
    "\t% Display Image\n",
    "\th = imagesc(display_array, [-1 1]);\n",
    "\n",
    "\t% Do not show axis\n",
    "\taxis image off\n",
    "\n",
    "\tdrawnow;\n",
    "\n",
    "end"
   ]
  },
  {
   "cell_type": "code",
   "execution_count": 9,
   "metadata": {},
   "outputs": [
    {
     "name": "stdout",
     "output_type": "stream",
     "text": [
      "Created file '/Users/jchien/workspace/courses/coursera_ml/ex7/octave/libs/plotProgresskMeans.m'.\n"
     ]
    }
   ],
   "source": [
    "%%file ../libs/plotProgresskMeans.m\n",
    "function plotProgresskMeans(X, centroids, previous, idx, K, i)\n",
    "    %PLOTPROGRESSKMEANS is a helper function that displays the progress of \n",
    "    %k-Means as it is running. It is intended for use only with 2D data.\n",
    "    %   PLOTPROGRESSKMEANS(X, centroids, previous, idx, K, i) plots the data\n",
    "    %   points with colors assigned to each centroid. With the previous\n",
    "    %   centroids, it also plots a line between the previous locations and\n",
    "    %   current locations of the centroids.\n",
    "    %\n",
    "\n",
    "    % Plot the examples\n",
    "    plotDataPoints(X, idx, K);\n",
    "\n",
    "    % Plot the centroids as black x's\n",
    "    plot(centroids(:,1), centroids(:,2), 'x', ...\n",
    "        'MarkerEdgeColor','k', ...\n",
    "        'MarkerSize', 10, 'LineWidth', 3);\n",
    "\n",
    "    % Plot the history of the centroids with lines\n",
    "    for j=1:size(centroids,1)\n",
    "        drawLine(centroids(j, :), previous(j, :));\n",
    "    end\n",
    "\n",
    "    % Title\n",
    "    title(sprintf('Iteration number %d', i))\n",
    "\n",
    "end\n",
    "\n"
   ]
  },
  {
   "cell_type": "code",
   "execution_count": 29,
   "metadata": {},
   "outputs": [
    {
     "name": "stdout",
     "output_type": "stream",
     "text": [
      "Created file '/Users/jchien/workspace/courses/coursera_ml/ex7/octave/libs/plotDataPoints.m'.\n"
     ]
    }
   ],
   "source": [
    "%%file ../libs/plotDataPoints.m\n",
    "function plotDataPoints(X, idx, K)\n",
    "    %PLOTDATAPOINTS plots data points in X, coloring them so that those with the same\n",
    "    %index assignments in idx have the same color\n",
    "    %   PLOTDATAPOINTS(X, idx, K) plots data points in X, coloring them so that those \n",
    "    %   with the same index assignments in idx have the same color\n",
    "\n",
    "    % Create palette\n",
    "    palette = hsv(K + 1);\n",
    "    colors = palette(idx, :);\n",
    "\n",
    "    % Plot the data\n",
    "    scatter(X(:,1), X(:,2), 15, colors);\n",
    "end\n"
   ]
  },
  {
   "cell_type": "code",
   "execution_count": 11,
   "metadata": {},
   "outputs": [
    {
     "name": "stdout",
     "output_type": "stream",
     "text": [
      "Created file '/Users/jchien/workspace/courses/coursera_ml/ex7/octave/libs/drawLine.m'.\n"
     ]
    }
   ],
   "source": [
    "%%file ../libs/drawLine.m\n",
    "function drawLine(p1, p2, varargin)\n",
    "    %DRAWLINE Draws a line from point p1 to point p2\n",
    "    %   DRAWLINE(p1, p2) Draws a line from point p1 to point p2 and holds the\n",
    "    %   current figure\n",
    "\n",
    "    plot([p1(1) p2(1)], [p1(2) p2(2)], varargin{:});\n",
    "end"
   ]
  }
 ],
 "metadata": {
  "kernelspec": {
   "display_name": "Octave",
   "language": "octave",
   "name": "octave"
  },
  "language_info": {
   "file_extension": ".m",
   "help_links": [
    {
     "text": "GNU Octave",
     "url": "https://www.gnu.org/software/octave/support.html"
    },
    {
     "text": "Octave Kernel",
     "url": "https://github.com/Calysto/octave_kernel"
    },
    {
     "text": "MetaKernel Magics",
     "url": "https://metakernel.readthedocs.io/en/latest/source/README.html"
    }
   ],
   "mimetype": "text/x-octave",
   "name": "octave",
   "version": "7.1.0"
  },
  "orig_nbformat": 4,
  "vscode": {
   "interpreter": {
    "hash": "78085f80e15a7736ac1017358e79479ec892a173a5f11cd4b2f9ba4c9c3f203b"
   }
  }
 },
 "nbformat": 4,
 "nbformat_minor": 2
}
